{
  "nbformat": 4,
  "nbformat_minor": 0,
  "metadata": {
    "colab": {
      "provenance": [],
      "toc_visible": true,
      "authorship_tag": "ABX9TyP+5OGAHkkSX0/o3P4zl8SL",
      "include_colab_link": true
    },
    "kernelspec": {
      "name": "python3",
      "display_name": "Python 3"
    },
    "language_info": {
      "name": "python"
    }
  },
  "cells": [
    {
      "cell_type": "markdown",
      "metadata": {
        "id": "view-in-github",
        "colab_type": "text"
      },
      "source": [
        "<a href=\"https://colab.research.google.com/github/thanhdaibl1572002/data-mining-project/blob/main/DATA_MINING_PROJECT.ipynb\" target=\"_parent\"><img src=\"https://colab.research.google.com/assets/colab-badge.svg\" alt=\"Open In Colab\"/></a>"
      ]
    },
    {
      "cell_type": "markdown",
      "source": [
        "#**GIỚI THIỆU**\n",
        "###**- Đề tài:** Dự đoán Tính Khả Dụng Tín Dụng Dựa trên Thông Tin Cá Nhân Khách Hàng.\n",
        "###**- Phương pháp:** Random Forest.\n",
        "###**- Nhãn dự đoán:** \"Bad\" hoặc \"Good\"\n",
        "###**- Bộ dữ liệu:**: [Credit Card Approval Prediction](https://www.kaggle.com/datasets/rikdifos/credit-card-approval-prediction)\n",
        "\n"
      ],
      "metadata": {
        "id": "0MYP7KLXejnQ"
      }
    },
    {
      "cell_type": "markdown",
      "source": [
        "#**IMPORT THƯ VIỆN**"
      ],
      "metadata": {
        "id": "PDRHrhv7gUHt"
      }
    },
    {
      "cell_type": "code",
      "source": [
        "import pandas as pd"
      ],
      "metadata": {
        "id": "3iF78Ui5nEvu"
      },
      "execution_count": null,
      "outputs": []
    },
    {
      "cell_type": "markdown",
      "source": [
        "#**TẢI BỘ DỮ LIỆU**"
      ],
      "metadata": {
        "id": "1vj7pbYzgYlz"
      }
    },
    {
      "cell_type": "code",
      "source": [
        "! git clone 'https://github.com/thanhdaibl1572002/data-mining-project'"
      ],
      "metadata": {
        "id": "XhkNRjDinHyf"
      },
      "execution_count": null,
      "outputs": []
    },
    {
      "cell_type": "markdown",
      "source": [
        "#**TỔNG QUAN DỮ LIỆU**\n",
        "\n",
        "**- ID**: Mã số khách hàng\n",
        "\n",
        "**- CODE_GENDER**: Giới tính\n",
        "\n",
        "**- FLAG_OWN_CAR**: Có xe hơi không\n",
        "\n",
        "**- FLAG_OWN_REALTY**: Có tài sản bất động sản không\n",
        "\n",
        "**- CNT_CHILDREN**: Số lượng con cái\n",
        "\n",
        "**- AMT_INCOME_TOTAL**: Thu nhập hàng năm\n",
        "\n",
        "**- NAME_INCOME_TYPE**: Hạng mục thu nhập\n",
        "\n",
        "**- NAME_EDUCATION_TYPE**: Cấp độ giáo dục\n",
        "\n",
        "**- NAME_FAMILY_STATUS**: Tình trạng hôn nhân\n",
        "\n",
        "**- NAME_HOUSING_TYPE**: Cách sống\n",
        "\n",
        "**- DAYS_BIRTH**: Ngày sinh (Số ngày tính ngược từ ngày hiện tại, 0 là hôm nay, -1 là hôm qua)\n",
        "\n",
        "**- DAYS_EMPLOYED**: Ngày bắt đầu làm việc (Số ngày tính ngược từ ngày hiện tại, 0 là ngày hiện tại, số dương là người đó hiện đang thất nghiệp)\n",
        "\n",
        "**- FLAG_MOBIL**: Có điện thoại di động không\n",
        "\n",
        "**- FLAG_WORK_PHONE**: Có điện thoại làm việc không\n",
        "\n",
        "**- FLAG_PHONE**: Có điện thoại không\n",
        "\n",
        "**- FLAG_EMAIL**: Có email không\n",
        "\n",
        "**- OCCUPATION_TYPE**: Nghề nghiệp\n",
        "\n",
        "**- CNT_FAM_MEMBERS**: Số lượng thành viên trong gia đình"
      ],
      "metadata": {
        "id": "XIQFCoten2UB"
      }
    },
    {
      "cell_type": "code",
      "source": [
        "df = pd.read_csv('./data-mining-project/data.csv')\n",
        "df.info()\n",
        "df.head()"
      ],
      "metadata": {
        "id": "QZZZMkIFn7d1"
      },
      "execution_count": null,
      "outputs": []
    },
    {
      "cell_type": "markdown",
      "source": [
        "#**KHAI PHÁ DỮ LIỆU**"
      ],
      "metadata": {
        "id": "gs2pAZVMgiSq"
      }
    },
    {
      "cell_type": "markdown",
      "source": [
        "#**TIỀN XỬ LÝ DỮ LIỆU**"
      ],
      "metadata": {
        "id": "15U2kuMwgtvd"
      }
    },
    {
      "cell_type": "markdown",
      "source": [
        "#**HUẤN LUYỆN**"
      ],
      "metadata": {
        "id": "5GXf3tlcg1Q3"
      }
    },
    {
      "cell_type": "markdown",
      "source": [
        "#**ĐÁNH GIÁ**"
      ],
      "metadata": {
        "id": "xhyfHF9ng-vo"
      }
    },
    {
      "cell_type": "markdown",
      "source": [
        "#**TINH CHỈNH**"
      ],
      "metadata": {
        "id": "aU5h7oQihBU9"
      }
    },
    {
      "cell_type": "markdown",
      "source": [
        "#**THỬ NGHIỆM**"
      ],
      "metadata": {
        "id": "jTuxKxilhHAt"
      }
    }
  ]
}